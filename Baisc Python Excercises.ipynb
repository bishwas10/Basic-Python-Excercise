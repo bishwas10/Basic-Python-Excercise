{
 "cells": [
  {
   "cell_type": "markdown",
   "id": "5b096769-e187-4b9e-ba50-2db09a54ab5e",
   "metadata": {},
   "source": [
    "Program to add two numbers"
   ]
  },
  {
   "cell_type": "code",
   "execution_count": 2,
   "id": "bbc97f5a-1066-4d22-9df5-0bf37a0d52d6",
   "metadata": {},
   "outputs": [
    {
     "name": "stdin",
     "output_type": "stream",
     "text": [
      "Enter a first number 10\n",
      "Enter a second number 20\n"
     ]
    },
    {
     "name": "stdout",
     "output_type": "stream",
     "text": [
      "The sum of two numbers is : 30\n"
     ]
    }
   ],
   "source": [
    "num1 = int(input(\"Enter a first number\"))\n",
    "num2 =int(input(\"Enter a second number\"))\n",
    "sum= num1 + num2\n",
    "print(\"The sum of two numbers is :\",sum)"
   ]
  },
  {
   "cell_type": "markdown",
   "id": "5f72ca36-db70-4b80-b930-f40392d8de3b",
   "metadata": {},
   "source": [
    "Program to print Hello World\n"
   ]
  },
  {
   "cell_type": "code",
   "execution_count": 3,
   "id": "8a38404d-e4e5-494e-b69b-263f29847a66",
   "metadata": {},
   "outputs": [
    {
     "name": "stdout",
     "output_type": "stream",
     "text": [
      "Hello World\n"
     ]
    }
   ],
   "source": [
    "print (\"Hello World\")"
   ]
  },
  {
   "cell_type": "markdown",
   "id": "9afc6337-4fea-41ae-b4d2-50d7d2c3535e",
   "metadata": {},
   "source": [
    "Program to find the square root"
   ]
  },
  {
   "cell_type": "code",
   "execution_count": 10,
   "id": "f78c5c58-7346-4290-9e9c-57dee890b00a",
   "metadata": {},
   "outputs": [
    {
     "name": "stdin",
     "output_type": "stream",
     "text": [
      "Enter a number : 100\n"
     ]
    },
    {
     "name": "stdout",
     "output_type": "stream",
     "text": [
      "The square of the given number is  10.0\n"
     ]
    }
   ],
   "source": [
    "#num = 64\n",
    "num1 = int (input(\"Enter a number :\"))\n",
    "sr = num1 **(1/2)\n",
    "print(\"The square of the given number is \",sr)\n",
    "            "
   ]
  },
  {
   "cell_type": "code",
   "execution_count": 13,
   "id": "ca127ba5-8e69-4e53-8c98-0a598dc07d16",
   "metadata": {},
   "outputs": [
    {
     "name": "stdin",
     "output_type": "stream",
     "text": [
      "Enter a number 64\n"
     ]
    },
    {
     "name": "stdout",
     "output_type": "stream",
     "text": [
      "The square of the given number is: 8.0\n"
     ]
    }
   ],
   "source": [
    "# Using Math module\n",
    "import math\n",
    "num = int(input (\"Enter a number\"))\n",
    "sr = math.sqrt(num)\n",
    "print(\"The square of the given number is:\", sr)\n"
   ]
  },
  {
   "cell_type": "markdown",
   "id": "e43950fd-3e1c-4497-8f15-88ff9f6887f3",
   "metadata": {},
   "source": [
    "Program to print Area of the Triangle\n"
   ]
  },
  {
   "cell_type": "code",
   "execution_count": 15,
   "id": "85547bd8-07e7-4b10-a539-e50936b11527",
   "metadata": {},
   "outputs": [
    {
     "name": "stdin",
     "output_type": "stream",
     "text": [
      "Enter the base of the triangle 10\n",
      "Enter the heightof the triangle 10\n"
     ]
    },
    {
     "name": "stdout",
     "output_type": "stream",
     "text": [
      "The area of the triangle is : 50.0\n"
     ]
    }
   ],
   "source": [
    "base = float(input(\"Enter the base of the triangle\"))\n",
    "height = float (input(\"Enter the height of the triangle\"))\n",
    "area = 0.5* base * height\n",
    "print (\"The area of the triangle is :\", area)"
   ]
  },
  {
   "cell_type": "markdown",
   "id": "6d71a104-424c-4d59-a845-f000d617b280",
   "metadata": {},
   "source": [
    "Program to solve quadratic equation\n"
   ]
  },
  {
   "cell_type": "code",
   "execution_count": 16,
   "id": "d0907c7c-6475-418c-91d1-cdff349963ab",
   "metadata": {},
   "outputs": [
    {
     "name": "stdin",
     "output_type": "stream",
     "text": [
      "Enter the value of a and a != 0 10\n",
      "Enter the value of b : 5\n",
      "Enter the value of c : 4\n"
     ]
    },
    {
     "name": "stdout",
     "output_type": "stream",
     "text": [
      "The roots are  (-0.25-0.5809475019311126j) and (-0.25+0.5809475019311126j)\n"
     ]
    }
   ],
   "source": [
    "import cmath\n",
    "a = int (input(\"Enter the value of a and a != 0\"))\n",
    "b = int (input(\"Enter the value of b :\"))\n",
    "c = int (input(\"Enter the value of c :\"))\n",
    "d = (b**2)-(4*a*c)\n",
    "root1 = (-b-cmath.sqrt(d))/(2*a)\n",
    "root2 = (-b+ cmath.sqrt(d))/(2*a)\n",
    "print (\"The roots are \", root1 , \"and\" , root2)\n",
    "         \n",
    "\n",
    "         "
   ]
  },
  {
   "cell_type": "markdown",
   "id": "712e5741-4431-4aa7-a5e9-13c48403d77f",
   "metadata": {},
   "source": [
    "\n",
    "  Python to swap two variables       \n",
    "\n",
    "         "
   ]
  },
  {
   "cell_type": "code",
   "execution_count": 17,
   "id": "d7bfa43e-19ec-45ed-aef5-569a2a4ef61a",
   "metadata": {},
   "outputs": [
    {
     "name": "stdout",
     "output_type": "stream",
     "text": [
      "The value of temporary is  13\n",
      "The value of x is  12\n",
      "the value of y is  13\n"
     ]
    }
   ],
   "source": [
    "x = 13\n",
    "y = 12\n",
    "temp = x\n",
    "print (\"The value of temporary variable is \" , temp)\n",
    "x = y\n",
    "print (\"The value of x is \",x)\n",
    "y = temp\n",
    "print (\"the value of y is \", y)"
   ]
  },
  {
   "cell_type": "code",
   "execution_count": 21,
   "id": "90fdfd08-f24e-40ea-b09a-6b2fcae3a891",
   "metadata": {},
   "outputs": [
    {
     "name": "stdout",
     "output_type": "stream",
     "text": [
      "The vale of x is : 13\n",
      "The value of y is : 12\n"
     ]
    }
   ],
   "source": [
    " # Using without third variable\n",
    " x = 12\n",
    "y = 13\n",
    "x,y= y,x\n",
    "print(\"The vale of x is :\",x)\n",
    "print(\"The value of y is :\",y)"
   ]
  },
  {
   "cell_type": "markdown",
   "id": "517f2045-3ceb-4b48-9544-be866a2bb087",
   "metadata": {},
   "source": [
    "Program to generate a random number\n"
   ]
  },
  {
   "cell_type": "code",
   "execution_count": 24,
   "id": "d8e72e48-fa7c-4306-bfcb-fb91f31c7964",
   "metadata": {},
   "outputs": [
    {
     "name": "stdout",
     "output_type": "stream",
     "text": [
      "8\n"
     ]
    }
   ],
   "source": [
    "import random\n",
    "num = random.randint(0,10)\n",
    "print (num)"
   ]
  },
  {
   "cell_type": "markdown",
   "id": "d5afccfa-09d1-4985-bfc2-d9014c0378ec",
   "metadata": {},
   "source": [
    "program to convert kilometres to miles\n"
   ]
  },
  {
   "cell_type": "code",
   "execution_count": 27,
   "id": "9f0e1491-1fd6-41eb-9b11-c3cdffdeba68",
   "metadata": {},
   "outputs": [
    {
     "name": "stdin",
     "output_type": "stream",
     "text": [
      "Enter the unit in km  5\n"
     ]
    },
    {
     "name": "stdout",
     "output_type": "stream",
     "text": [
      "In miles : 3.106855\n"
     ]
    }
   ],
   "source": [
    "# formula = 1km = 0.621371\n",
    "km = float (input(\"Enter the unit in km \"))\n",
    "miles = km * 0.621371\n",
    "print (\"In miles :\", miles)"
   ]
  },
  {
   "cell_type": "markdown",
   "id": "905dab54-9f7d-4f6c-9838-bbe63b7bfb31",
   "metadata": {},
   "source": [
    "program to convert celsius to fahrenheit"
   ]
  },
  {
   "cell_type": "code",
   "execution_count": 28,
   "id": "b8abf26c-a7f1-497f-aa8b-16b422c2663b",
   "metadata": {},
   "outputs": [
    {
     "name": "stdin",
     "output_type": "stream",
     "text": [
      "Enter temperature in celsius 38\n"
     ]
    },
    {
     "name": "stdout",
     "output_type": "stream",
     "text": [
      "The converted vale is  100.4 Fahrenheit\n"
     ]
    }
   ],
   "source": [
    "celsius = int (input(\"Enter temperature in celsius\"))\n",
    "fahrenheit = (celsius * (1.\n",
    "                        ))+ 32\n",
    "print (\"The converted vale is \", fahrenheit,\"Fahrenheit\")\n",
    "              "
   ]
  },
  {
   "cell_type": "markdown",
   "id": "fcce3ada-6a6a-4c2a-9653-7132c26399ba",
   "metadata": {},
   "source": [
    "Program to find whether the given number is even or odd\n"
   ]
  },
  {
   "cell_type": "code",
   "execution_count": 2,
   "id": "7c560f58-3095-4d06-9d4c-5a48b9501b70",
   "metadata": {},
   "outputs": [
    {
     "name": "stdin",
     "output_type": "stream",
     "text": [
      "Enter a number 3\n"
     ]
    },
    {
     "name": "stdout",
     "output_type": "stream",
     "text": [
      "It is an odd number\n"
     ]
    }
   ],
   "source": [
    "num = int(input(\"Enter a number\"))\n",
    "if num % 2 == 0 :\n",
    "    print(\"It is an even number\")\n",
    "else:\n",
    "    print (\"It is an odd number\")"
   ]
  },
  {
   "cell_type": "markdown",
   "id": "f35f8dfd-c3a5-42f3-a1db-5ab571085133",
   "metadata": {},
   "source": [
    "Program to find whether the number is positive, negative, zero"
   ]
  },
  {
   "cell_type": "code",
   "execution_count": 5,
   "id": "53cc49d1-3692-47f7-9726-81f34af95212",
   "metadata": {},
   "outputs": [
    {
     "name": "stdin",
     "output_type": "stream",
     "text": [
      "Enter a number 0\n"
     ]
    },
    {
     "name": "stdout",
     "output_type": "stream",
     "text": [
      "It is a zero\n"
     ]
    }
   ],
   "source": [
    "num = int (input (\"Enter a number\"))\n",
    "if num >0 :\n",
    "    print (\"It is a positive number\")\n",
    "elif num < 0 :\n",
    "    print (\"It is a negative number\")\n",
    "else:\n",
    "    print (\"It is a zero\")"
   ]
  },
  {
   "cell_type": "markdown",
   "id": "44d3a24c-06b6-4b51-9d60-d9724911aa37",
   "metadata": {},
   "source": [
    "Program to find prime number and composite number"
   ]
  },
  {
   "cell_type": "code",
   "execution_count": 11,
   "id": "acdba661-40d5-4d6f-b4ec-09e2e041884b",
   "metadata": {},
   "outputs": [
    {
     "name": "stdin",
     "output_type": "stream",
     "text": [
      "Enter a number 6\n"
     ]
    },
    {
     "name": "stdout",
     "output_type": "stream",
     "text": [
      "It is a composite number \n"
     ]
    }
   ],
   "source": [
    "num = int (input (\"Enter a number\"))\n",
    "for i in range (2,num):\n",
    "    if num % i == 0:\n",
    "        print(\"It is a composite number \")\n",
    "        break\n",
    "else:\n",
    "    print (\"It is a prime number \")\n",
    "    \n",
    "\n",
    "           "
   ]
  },
  {
   "cell_type": "markdown",
   "id": "4aacc9ff-f837-47fd-974f-1d8bc3a11da9",
   "metadata": {},
   "source": [
    "Program to print factorial of the number\n"
   ]
  },
  {
   "cell_type": "code",
   "execution_count": 21,
   "id": "d19317fb-967c-4813-9f67-f70d03c4fe92",
   "metadata": {},
   "outputs": [
    {
     "name": "stdin",
     "output_type": "stream",
     "text": [
      "Enter a number 5\n"
     ]
    },
    {
     "name": "stdout",
     "output_type": "stream",
     "text": [
      "The factorial is  120\n"
     ]
    }
   ],
   "source": [
    "num = int (input(\"Enter a number\"))\n",
    "fact = 1\n",
    "if num == 0 :\n",
    "    print (\"The factorial of 0 is \" , 1)\n",
    "    \n",
    "if num > 0:\n",
    "    for i in range (1,num+1):\n",
    "        fact = fact * i\n",
    "print (\"The factorial is \",fact)    \n",
    "\n",
    "    \n",
    "           "
   ]
  },
  {
   "cell_type": "markdown",
   "id": "5a1c5562-c953-41c6-ab89-89c81367fd5b",
   "metadata": {},
   "source": [
    "program to find facotorial of the number using recursion\n"
   ]
  },
  {
   "cell_type": "code",
   "execution_count": 23,
   "id": "140f6818-137e-474a-9871-5eef84965b0f",
   "metadata": {},
   "outputs": [
    {
     "name": "stdin",
     "output_type": "stream",
     "text": [
      "Enter the number 6\n"
     ]
    },
    {
     "name": "stdout",
     "output_type": "stream",
     "text": [
      "The factorial of the number is  720\n"
     ]
    }
   ],
   "source": [
    "def fact (a):\n",
    "    if a ==0:\n",
    "        return 1\n",
    "    else:\n",
    "        return (a * fact (a-1))\n",
    "num = int (input (\"Enter the number\"))        \n",
    "result = fact (num)        \n",
    "print (\"The factorial of the number is \", result)        \n",
    "    "
   ]
  },
  {
   "cell_type": "markdown",
   "id": "f768e0dc-9614-49c5-83ae-fb0ff0ac3a9e",
   "metadata": {},
   "source": [
    "program to print the largest number among three numbers\n"
   ]
  },
  {
   "cell_type": "code",
   "execution_count": 29,
   "id": "fbd0d1c6-0811-41df-a5a0-964a5b48cef1",
   "metadata": {},
   "outputs": [
    {
     "name": "stdin",
     "output_type": "stream",
     "text": [
      "Enter the first number  4\n",
      "Enter the second number 6\n",
      "Enter the third number 5\n"
     ]
    },
    {
     "name": "stdout",
     "output_type": "stream",
     "text": [
      "The largest number is  6\n"
     ]
    }
   ],
   "source": [
    "num1  = int (input (\"Enter the first number \"))\n",
    "num2 = int (input (\"Enter the second number\"))\n",
    "num3 = int (input (\"Enter the third number\"))\n",
    "if num1 > num2 and num1 > num3:\n",
    "    print(\"The largest number is  \", num1)\n",
    "    \n",
    "elif num2> num1 and num2 > num3:\n",
    "    print (\"The largest number is \", num2)\n",
    "else:\n",
    "    print (\"The largest number is \", num3)\n",
    "    "
   ]
  },
  {
   "cell_type": "markdown",
   "id": "8ae23615-ba6d-4301-bb6b-7f864da61a27",
   "metadata": {},
   "source": [
    "program to find whether the given year is  leap year or not\n"
   ]
  },
  {
   "cell_type": "code",
   "execution_count": 41,
   "id": "997b36f5-b102-4bb3-aa25-defb96a75184",
   "metadata": {},
   "outputs": [
    {
     "name": "stdin",
     "output_type": "stream",
     "text": [
      "Enter a year 2024\n"
     ]
    },
    {
     "name": "stdout",
     "output_type": "stream",
     "text": [
      "It is a leap year\n"
     ]
    }
   ],
   "source": [
    "year = int (input(\"Enter a year\"))\n",
    "if year % 400 == 0 and year % 100 == 0:\n",
    "    print (\"It is a leap year\")\n",
    "elif year % 4 == 0 and year % 100 != 0:\n",
    "    print (\"It is a leap year\")\n",
    "    \n",
    "else:\n",
    "    print (\"It is not a leap year\")\n",
    "    \n",
    "    \n",
    "    \n",
    "    \n",
    "            \n",
    "            "
   ]
  },
  {
   "cell_type": "code",
   "execution_count": null,
   "id": "5bff56ec-3f2e-4ff1-b5e0-629438cca2a2",
   "metadata": {},
   "outputs": [],
   "source": []
  }
 ],
 "metadata": {
  "kernelspec": {
   "display_name": "Python 3 (ipykernel)",
   "language": "python",
   "name": "python3"
  },
  "language_info": {
   "codemirror_mode": {
    "name": "ipython",
    "version": 3
   },
   "file_extension": ".py",
   "mimetype": "text/x-python",
   "name": "python",
   "nbconvert_exporter": "python",
   "pygments_lexer": "ipython3",
   "version": "3.11.7"
  }
 },
 "nbformat": 4,
 "nbformat_minor": 5
}
